{
  "nbformat": 4,
  "nbformat_minor": 0,
  "metadata": {
    "colab": {
      "provenance": [],
      "authorship_tag": "ABX9TyOJvivMFDisymCJ3n58WwMr",
      "include_colab_link": true
    },
    "kernelspec": {
      "name": "python3",
      "display_name": "Python 3"
    },
    "language_info": {
      "name": "python"
    }
  },
  "cells": [
    {
      "cell_type": "markdown",
      "metadata": {
        "id": "view-in-github",
        "colab_type": "text"
      },
      "source": [
        "<a href=\"https://colab.research.google.com/github/owenfab/IDS/blob/main/HW4/problem1_python.ipynb\" target=\"_parent\"><img src=\"https://colab.research.google.com/assets/colab-badge.svg\" alt=\"Open In Colab\"/></a>"
      ]
    },
    {
      "cell_type": "markdown",
      "source": [
        "#IDS HW 4\n",
        "##Owen Fabula\n",
        "##Problem 1: Python"
      ],
      "metadata": {
        "id": "rYpNrVO8Kr5h"
      }
    },
    {
      "cell_type": "markdown",
      "source": [
        "##Part 1: Reading Data in and Data cleansing\n",
        "First, I read the data in to a frame from the raw csv file on GitHub and imported relevant libraries as needed."
      ],
      "metadata": {
        "id": "sDLcbEnbUoy1"
      }
    },
    {
      "cell_type": "code",
      "source": [
        "import pandas as pd\n",
        "pd.options.mode.chained_assignment = None\n",
        "import numpy as np\n",
        "import matplotlib.pyplot as mpl"
      ],
      "metadata": {
        "id": "icI8Wd8tUsGh"
      },
      "execution_count": 112,
      "outputs": []
    },
    {
      "cell_type": "code",
      "source": [
        "#creating dataframe from raw csv\n",
        "#get url of raw csv from GitHub and load csv content into data frame\n",
        "training = pd.read_csv(\"https://raw.githubusercontent.com/bforoura/IDS/main/HW4/adult_training.csv\", sep=\",\")\n",
        "training"
      ],
      "metadata": {
        "colab": {
          "base_uri": "https://localhost:8080/",
          "height": 424
        },
        "id": "mvIPHzjOU65N",
        "outputId": "58d83fa5-b398-44a8-d73e-e434830b65a8"
      },
      "execution_count": 113,
      "outputs": [
        {
          "output_type": "execute_result",
          "data": {
            "text/plain": [
              "       age         workclass  education         marital-status  \\\n",
              "0       50  Self-emp-not-inc         13     Married-civ-spouse   \n",
              "1       38           Private          9               Divorced   \n",
              "2       49           Private          5  Married-spouse-absent   \n",
              "3       52  Self-emp-not-inc          9     Married-civ-spouse   \n",
              "4       31           Private         14          Never-married   \n",
              "...    ...               ...        ...                    ...   \n",
              "14792   43  Self-emp-not-inc         10     Married-civ-spouse   \n",
              "14793   32           Private          6     Married-civ-spouse   \n",
              "14794   32           Private         14          Never-married   \n",
              "14795   58           Private          9                Widowed   \n",
              "14796   22           Private          9          Never-married   \n",
              "\n",
              "              occupation     sex  capital-gain  capital-loss income  \n",
              "0        Exec-managerial    Male             0             0  <=50K  \n",
              "1      Handlers-cleaners    Male             0             0  <=50K  \n",
              "2          Other-service  Female             0             0  <=50K  \n",
              "3        Exec-managerial    Male             0             0   >50K  \n",
              "4         Prof-specialty  Female         14084             0   >50K  \n",
              "...                  ...     ...           ...           ...    ...  \n",
              "14792       Craft-repair    Male             0             0  <=50K  \n",
              "14793  Handlers-cleaners    Male             0             0  <=50K  \n",
              "14794       Tech-support    Male             0             0  <=50K  \n",
              "14795       Adm-clerical  Female             0             0  <=50K  \n",
              "14796       Adm-clerical    Male             0             0  <=50K  \n",
              "\n",
              "[14797 rows x 9 columns]"
            ],
            "text/html": [
              "\n",
              "  <div id=\"df-67c5a8b8-7aa3-4c82-9370-6eea05361ac5\" class=\"colab-df-container\">\n",
              "    <div>\n",
              "<style scoped>\n",
              "    .dataframe tbody tr th:only-of-type {\n",
              "        vertical-align: middle;\n",
              "    }\n",
              "\n",
              "    .dataframe tbody tr th {\n",
              "        vertical-align: top;\n",
              "    }\n",
              "\n",
              "    .dataframe thead th {\n",
              "        text-align: right;\n",
              "    }\n",
              "</style>\n",
              "<table border=\"1\" class=\"dataframe\">\n",
              "  <thead>\n",
              "    <tr style=\"text-align: right;\">\n",
              "      <th></th>\n",
              "      <th>age</th>\n",
              "      <th>workclass</th>\n",
              "      <th>education</th>\n",
              "      <th>marital-status</th>\n",
              "      <th>occupation</th>\n",
              "      <th>sex</th>\n",
              "      <th>capital-gain</th>\n",
              "      <th>capital-loss</th>\n",
              "      <th>income</th>\n",
              "    </tr>\n",
              "  </thead>\n",
              "  <tbody>\n",
              "    <tr>\n",
              "      <th>0</th>\n",
              "      <td>50</td>\n",
              "      <td>Self-emp-not-inc</td>\n",
              "      <td>13</td>\n",
              "      <td>Married-civ-spouse</td>\n",
              "      <td>Exec-managerial</td>\n",
              "      <td>Male</td>\n",
              "      <td>0</td>\n",
              "      <td>0</td>\n",
              "      <td>&lt;=50K</td>\n",
              "    </tr>\n",
              "    <tr>\n",
              "      <th>1</th>\n",
              "      <td>38</td>\n",
              "      <td>Private</td>\n",
              "      <td>9</td>\n",
              "      <td>Divorced</td>\n",
              "      <td>Handlers-cleaners</td>\n",
              "      <td>Male</td>\n",
              "      <td>0</td>\n",
              "      <td>0</td>\n",
              "      <td>&lt;=50K</td>\n",
              "    </tr>\n",
              "    <tr>\n",
              "      <th>2</th>\n",
              "      <td>49</td>\n",
              "      <td>Private</td>\n",
              "      <td>5</td>\n",
              "      <td>Married-spouse-absent</td>\n",
              "      <td>Other-service</td>\n",
              "      <td>Female</td>\n",
              "      <td>0</td>\n",
              "      <td>0</td>\n",
              "      <td>&lt;=50K</td>\n",
              "    </tr>\n",
              "    <tr>\n",
              "      <th>3</th>\n",
              "      <td>52</td>\n",
              "      <td>Self-emp-not-inc</td>\n",
              "      <td>9</td>\n",
              "      <td>Married-civ-spouse</td>\n",
              "      <td>Exec-managerial</td>\n",
              "      <td>Male</td>\n",
              "      <td>0</td>\n",
              "      <td>0</td>\n",
              "      <td>&gt;50K</td>\n",
              "    </tr>\n",
              "    <tr>\n",
              "      <th>4</th>\n",
              "      <td>31</td>\n",
              "      <td>Private</td>\n",
              "      <td>14</td>\n",
              "      <td>Never-married</td>\n",
              "      <td>Prof-specialty</td>\n",
              "      <td>Female</td>\n",
              "      <td>14084</td>\n",
              "      <td>0</td>\n",
              "      <td>&gt;50K</td>\n",
              "    </tr>\n",
              "    <tr>\n",
              "      <th>...</th>\n",
              "      <td>...</td>\n",
              "      <td>...</td>\n",
              "      <td>...</td>\n",
              "      <td>...</td>\n",
              "      <td>...</td>\n",
              "      <td>...</td>\n",
              "      <td>...</td>\n",
              "      <td>...</td>\n",
              "      <td>...</td>\n",
              "    </tr>\n",
              "    <tr>\n",
              "      <th>14792</th>\n",
              "      <td>43</td>\n",
              "      <td>Self-emp-not-inc</td>\n",
              "      <td>10</td>\n",
              "      <td>Married-civ-spouse</td>\n",
              "      <td>Craft-repair</td>\n",
              "      <td>Male</td>\n",
              "      <td>0</td>\n",
              "      <td>0</td>\n",
              "      <td>&lt;=50K</td>\n",
              "    </tr>\n",
              "    <tr>\n",
              "      <th>14793</th>\n",
              "      <td>32</td>\n",
              "      <td>Private</td>\n",
              "      <td>6</td>\n",
              "      <td>Married-civ-spouse</td>\n",
              "      <td>Handlers-cleaners</td>\n",
              "      <td>Male</td>\n",
              "      <td>0</td>\n",
              "      <td>0</td>\n",
              "      <td>&lt;=50K</td>\n",
              "    </tr>\n",
              "    <tr>\n",
              "      <th>14794</th>\n",
              "      <td>32</td>\n",
              "      <td>Private</td>\n",
              "      <td>14</td>\n",
              "      <td>Never-married</td>\n",
              "      <td>Tech-support</td>\n",
              "      <td>Male</td>\n",
              "      <td>0</td>\n",
              "      <td>0</td>\n",
              "      <td>&lt;=50K</td>\n",
              "    </tr>\n",
              "    <tr>\n",
              "      <th>14795</th>\n",
              "      <td>58</td>\n",
              "      <td>Private</td>\n",
              "      <td>9</td>\n",
              "      <td>Widowed</td>\n",
              "      <td>Adm-clerical</td>\n",
              "      <td>Female</td>\n",
              "      <td>0</td>\n",
              "      <td>0</td>\n",
              "      <td>&lt;=50K</td>\n",
              "    </tr>\n",
              "    <tr>\n",
              "      <th>14796</th>\n",
              "      <td>22</td>\n",
              "      <td>Private</td>\n",
              "      <td>9</td>\n",
              "      <td>Never-married</td>\n",
              "      <td>Adm-clerical</td>\n",
              "      <td>Male</td>\n",
              "      <td>0</td>\n",
              "      <td>0</td>\n",
              "      <td>&lt;=50K</td>\n",
              "    </tr>\n",
              "  </tbody>\n",
              "</table>\n",
              "<p>14797 rows × 9 columns</p>\n",
              "</div>\n",
              "    <div class=\"colab-df-buttons\">\n",
              "\n",
              "  <div class=\"colab-df-container\">\n",
              "    <button class=\"colab-df-convert\" onclick=\"convertToInteractive('df-67c5a8b8-7aa3-4c82-9370-6eea05361ac5')\"\n",
              "            title=\"Convert this dataframe to an interactive table.\"\n",
              "            style=\"display:none;\">\n",
              "\n",
              "  <svg xmlns=\"http://www.w3.org/2000/svg\" height=\"24px\" viewBox=\"0 -960 960 960\">\n",
              "    <path d=\"M120-120v-720h720v720H120Zm60-500h600v-160H180v160Zm220 220h160v-160H400v160Zm0 220h160v-160H400v160ZM180-400h160v-160H180v160Zm440 0h160v-160H620v160ZM180-180h160v-160H180v160Zm440 0h160v-160H620v160Z\"/>\n",
              "  </svg>\n",
              "    </button>\n",
              "\n",
              "  <style>\n",
              "    .colab-df-container {\n",
              "      display:flex;\n",
              "      gap: 12px;\n",
              "    }\n",
              "\n",
              "    .colab-df-convert {\n",
              "      background-color: #E8F0FE;\n",
              "      border: none;\n",
              "      border-radius: 50%;\n",
              "      cursor: pointer;\n",
              "      display: none;\n",
              "      fill: #1967D2;\n",
              "      height: 32px;\n",
              "      padding: 0 0 0 0;\n",
              "      width: 32px;\n",
              "    }\n",
              "\n",
              "    .colab-df-convert:hover {\n",
              "      background-color: #E2EBFA;\n",
              "      box-shadow: 0px 1px 2px rgba(60, 64, 67, 0.3), 0px 1px 3px 1px rgba(60, 64, 67, 0.15);\n",
              "      fill: #174EA6;\n",
              "    }\n",
              "\n",
              "    .colab-df-buttons div {\n",
              "      margin-bottom: 4px;\n",
              "    }\n",
              "\n",
              "    [theme=dark] .colab-df-convert {\n",
              "      background-color: #3B4455;\n",
              "      fill: #D2E3FC;\n",
              "    }\n",
              "\n",
              "    [theme=dark] .colab-df-convert:hover {\n",
              "      background-color: #434B5C;\n",
              "      box-shadow: 0px 1px 3px 1px rgba(0, 0, 0, 0.15);\n",
              "      filter: drop-shadow(0px 1px 2px rgba(0, 0, 0, 0.3));\n",
              "      fill: #FFFFFF;\n",
              "    }\n",
              "  </style>\n",
              "\n",
              "    <script>\n",
              "      const buttonEl =\n",
              "        document.querySelector('#df-67c5a8b8-7aa3-4c82-9370-6eea05361ac5 button.colab-df-convert');\n",
              "      buttonEl.style.display =\n",
              "        google.colab.kernel.accessAllowed ? 'block' : 'none';\n",
              "\n",
              "      async function convertToInteractive(key) {\n",
              "        const element = document.querySelector('#df-67c5a8b8-7aa3-4c82-9370-6eea05361ac5');\n",
              "        const dataTable =\n",
              "          await google.colab.kernel.invokeFunction('convertToInteractive',\n",
              "                                                    [key], {});\n",
              "        if (!dataTable) return;\n",
              "\n",
              "        const docLinkHtml = 'Like what you see? Visit the ' +\n",
              "          '<a target=\"_blank\" href=https://colab.research.google.com/notebooks/data_table.ipynb>data table notebook</a>'\n",
              "          + ' to learn more about interactive tables.';\n",
              "        element.innerHTML = '';\n",
              "        dataTable['output_type'] = 'display_data';\n",
              "        await google.colab.output.renderOutput(dataTable, element);\n",
              "        const docLink = document.createElement('div');\n",
              "        docLink.innerHTML = docLinkHtml;\n",
              "        element.appendChild(docLink);\n",
              "      }\n",
              "    </script>\n",
              "  </div>\n",
              "\n",
              "\n",
              "<div id=\"df-ebc24b9d-e0bc-4f7e-bb4e-e460cebbecea\">\n",
              "  <button class=\"colab-df-quickchart\" onclick=\"quickchart('df-ebc24b9d-e0bc-4f7e-bb4e-e460cebbecea')\"\n",
              "            title=\"Suggest charts.\"\n",
              "            style=\"display:none;\">\n",
              "\n",
              "<svg xmlns=\"http://www.w3.org/2000/svg\" height=\"24px\"viewBox=\"0 0 24 24\"\n",
              "     width=\"24px\">\n",
              "    <g>\n",
              "        <path d=\"M19 3H5c-1.1 0-2 .9-2 2v14c0 1.1.9 2 2 2h14c1.1 0 2-.9 2-2V5c0-1.1-.9-2-2-2zM9 17H7v-7h2v7zm4 0h-2V7h2v10zm4 0h-2v-4h2v4z\"/>\n",
              "    </g>\n",
              "</svg>\n",
              "  </button>\n",
              "\n",
              "<style>\n",
              "  .colab-df-quickchart {\n",
              "      --bg-color: #E8F0FE;\n",
              "      --fill-color: #1967D2;\n",
              "      --hover-bg-color: #E2EBFA;\n",
              "      --hover-fill-color: #174EA6;\n",
              "      --disabled-fill-color: #AAA;\n",
              "      --disabled-bg-color: #DDD;\n",
              "  }\n",
              "\n",
              "  [theme=dark] .colab-df-quickchart {\n",
              "      --bg-color: #3B4455;\n",
              "      --fill-color: #D2E3FC;\n",
              "      --hover-bg-color: #434B5C;\n",
              "      --hover-fill-color: #FFFFFF;\n",
              "      --disabled-bg-color: #3B4455;\n",
              "      --disabled-fill-color: #666;\n",
              "  }\n",
              "\n",
              "  .colab-df-quickchart {\n",
              "    background-color: var(--bg-color);\n",
              "    border: none;\n",
              "    border-radius: 50%;\n",
              "    cursor: pointer;\n",
              "    display: none;\n",
              "    fill: var(--fill-color);\n",
              "    height: 32px;\n",
              "    padding: 0;\n",
              "    width: 32px;\n",
              "  }\n",
              "\n",
              "  .colab-df-quickchart:hover {\n",
              "    background-color: var(--hover-bg-color);\n",
              "    box-shadow: 0 1px 2px rgba(60, 64, 67, 0.3), 0 1px 3px 1px rgba(60, 64, 67, 0.15);\n",
              "    fill: var(--button-hover-fill-color);\n",
              "  }\n",
              "\n",
              "  .colab-df-quickchart-complete:disabled,\n",
              "  .colab-df-quickchart-complete:disabled:hover {\n",
              "    background-color: var(--disabled-bg-color);\n",
              "    fill: var(--disabled-fill-color);\n",
              "    box-shadow: none;\n",
              "  }\n",
              "\n",
              "  .colab-df-spinner {\n",
              "    border: 2px solid var(--fill-color);\n",
              "    border-color: transparent;\n",
              "    border-bottom-color: var(--fill-color);\n",
              "    animation:\n",
              "      spin 1s steps(1) infinite;\n",
              "  }\n",
              "\n",
              "  @keyframes spin {\n",
              "    0% {\n",
              "      border-color: transparent;\n",
              "      border-bottom-color: var(--fill-color);\n",
              "      border-left-color: var(--fill-color);\n",
              "    }\n",
              "    20% {\n",
              "      border-color: transparent;\n",
              "      border-left-color: var(--fill-color);\n",
              "      border-top-color: var(--fill-color);\n",
              "    }\n",
              "    30% {\n",
              "      border-color: transparent;\n",
              "      border-left-color: var(--fill-color);\n",
              "      border-top-color: var(--fill-color);\n",
              "      border-right-color: var(--fill-color);\n",
              "    }\n",
              "    40% {\n",
              "      border-color: transparent;\n",
              "      border-right-color: var(--fill-color);\n",
              "      border-top-color: var(--fill-color);\n",
              "    }\n",
              "    60% {\n",
              "      border-color: transparent;\n",
              "      border-right-color: var(--fill-color);\n",
              "    }\n",
              "    80% {\n",
              "      border-color: transparent;\n",
              "      border-right-color: var(--fill-color);\n",
              "      border-bottom-color: var(--fill-color);\n",
              "    }\n",
              "    90% {\n",
              "      border-color: transparent;\n",
              "      border-bottom-color: var(--fill-color);\n",
              "    }\n",
              "  }\n",
              "</style>\n",
              "\n",
              "  <script>\n",
              "    async function quickchart(key) {\n",
              "      const quickchartButtonEl =\n",
              "        document.querySelector('#' + key + ' button');\n",
              "      quickchartButtonEl.disabled = true;  // To prevent multiple clicks.\n",
              "      quickchartButtonEl.classList.add('colab-df-spinner');\n",
              "      try {\n",
              "        const charts = await google.colab.kernel.invokeFunction(\n",
              "            'suggestCharts', [key], {});\n",
              "      } catch (error) {\n",
              "        console.error('Error during call to suggestCharts:', error);\n",
              "      }\n",
              "      quickchartButtonEl.classList.remove('colab-df-spinner');\n",
              "      quickchartButtonEl.classList.add('colab-df-quickchart-complete');\n",
              "    }\n",
              "    (() => {\n",
              "      let quickchartButtonEl =\n",
              "        document.querySelector('#df-ebc24b9d-e0bc-4f7e-bb4e-e460cebbecea button');\n",
              "      quickchartButtonEl.style.display =\n",
              "        google.colab.kernel.accessAllowed ? 'block' : 'none';\n",
              "    })();\n",
              "  </script>\n",
              "</div>\n",
              "    </div>\n",
              "  </div>\n"
            ]
          },
          "metadata": {},
          "execution_count": 113
        }
      ]
    },
    {
      "cell_type": "markdown",
      "source": [
        "Before I could perform any analysis on the data, I had to cleanse the data. Upon printing out the table, I noticed that some rows had '?' values, and I figured that they might be the stand-in for NA in the original data set. To confirm this, I used the following code:"
      ],
      "metadata": {
        "id": "RpS-ZY-HXVhB"
      }
    },
    {
      "cell_type": "code",
      "source": [
        "#find if there are any NA\n",
        "training.isna().values.any()"
      ],
      "metadata": {
        "colab": {
          "base_uri": "https://localhost:8080/"
        },
        "id": "-QrBAeJ_XYP3",
        "outputId": "88ba9d54-31db-480c-f714-024bbd49e999"
      },
      "execution_count": 114,
      "outputs": [
        {
          "output_type": "execute_result",
          "data": {
            "text/plain": [
              "False"
            ]
          },
          "metadata": {},
          "execution_count": 114
        }
      ]
    },
    {
      "cell_type": "markdown",
      "source": [
        "The above code printed 'False', so I knew that '?' was being used as a placeholder. I also noticed that some values in the capital-gain column were 99999, which made no sense and must have been inputted as a placeholder as well. To rectify the missing values, I first changed each '?' to NaN (and 99999 to NaN for capital-gain), and then imputed by the appropriate value (mean for numeric columns, mode for categorical columns). I imputed by the mean for those values too. The following code does what was described above."
      ],
      "metadata": {
        "id": "0yjz8SLlX0fL"
      }
    },
    {
      "cell_type": "code",
      "source": [
        "#change each ? (or 99999 for capital-gain) to np.NaN\n",
        "row = 0 #row index\n",
        "col = 0 #col index\n",
        "for i in training.columns: #go through each column\n",
        "  row = 0 #reset row counter each time\n",
        "  for j in training[i]: #for each element in each column\n",
        "    if (j == '?'): #check if '?'\n",
        "      training.iloc[row,col] = np.NaN #make '?' np.NaN\n",
        "    row = row + 1 #increment row index\n",
        "  col = col + 1 #increment col index\n",
        "#for capital-gain specifically\n",
        "r = 0 #row index\n",
        "for k in training['capital-gain']:\n",
        "  if k == 99999: #placeholder value in capital-gain\n",
        "    training.iloc[r,6] = np.NaN #change placeholder to np.NaN; 6 is hardcoded because capital-gain is col 6\n",
        "  r = r + 1 #increment row index\n",
        "\n",
        "#make sure any of this worked:\n",
        "print(\"num NaN after replacement: \",training.isna().values.sum())\n",
        "\n",
        "#now to impute: numeric columns -> mean; categorical columns -> mode\n",
        "training['age'] = training['age'].fillna(training['age'].mean())\n",
        "training['workclass'] = training['workclass'].fillna(training['workclass'].mode()[0])\n",
        "training['education'] = training['education'].fillna(training['education'].mean())\n",
        "training['marital-status'] = training['marital-status'].fillna(training['marital-status'].mode()[0])\n",
        "training['occupation'] = training['occupation'].fillna(training['occupation'].mode()[0])\n",
        "training['sex'] = training['sex'].fillna(training['sex'].mode()[0])\n",
        "training['capital-gain'] = training['capital-gain'].fillna(training['capital-gain'].mean())\n",
        "training['capital-loss'] = training['capital-loss'].fillna(training['capital-loss'].mean())\n",
        "training['income'] = training['income'].fillna(training['income'].mode()[0])\n",
        "\n",
        "#check to make sure imputation worked\n",
        "print(\"num NaN after imputation: \",training.isna().values.sum())"
      ],
      "metadata": {
        "colab": {
          "base_uri": "https://localhost:8080/"
        },
        "id": "CWvjFuNnX4_1",
        "outputId": "86c36e80-8497-4cfb-cd78-e6fdcca3283e"
      },
      "execution_count": 115,
      "outputs": [
        {
          "output_type": "stream",
          "name": "stdout",
          "text": [
            "num NaN after replacement:  1732\n",
            "num NaN after imputation:  0\n"
          ]
        }
      ]
    },
    {
      "cell_type": "markdown",
      "source": [
        "##Part 2: Creating and plotting Contingency Tables\n",
        "###Contingency table between workclass and sex\n",
        "To create and plot a contingency table between workclass and sex, I sued the following code:"
      ],
      "metadata": {
        "id": "WuYHLu7flaEA"
      }
    },
    {
      "cell_type": "code",
      "source": [
        "#create contingency table\n",
        "wc_s_crosstab = pd.crosstab(training.workclass, training.sex)\n",
        "print(wc_s_crosstab)\n",
        "\n",
        "#now plot it\n",
        "barplot = wc_s_crosstab.plot.bar(rot=0,fontsize=6.5)"
      ],
      "metadata": {
        "colab": {
          "base_uri": "https://localhost:8080/",
          "height": 618
        },
        "id": "Ddym1wKElpYL",
        "outputId": "f2c80964-f5ba-4152-8276-67f35d9b7b89"
      },
      "execution_count": 116,
      "outputs": [
        {
          "output_type": "stream",
          "name": "stdout",
          "text": [
            "sex               Female  Male\n",
            "workclass                     \n",
            "Federal-gov          149   305\n",
            "Local-gov            377   592\n",
            "Never-worked           1     4\n",
            "Private             3951  7159\n",
            "Self-emp-inc          54   444\n",
            "Self-emp-not-inc     178   992\n",
            "State-gov            201   385\n",
            "Without-pay            1     4\n"
          ]
        },
        {
          "output_type": "display_data",
          "data": {
            "text/plain": [
              "<Figure size 640x480 with 1 Axes>"
            ],
            "image/png": "[encoded data removed]"
          },
          "metadata": {}
        }
      ]
    },
    {
      "cell_type": "markdown",
      "source": [
        "From the above output, one can see that, relative to females, males hold more positions in every kind of position found in the workclass column."
      ],
      "metadata": {
        "id": "P1JRcyXi5jmd"
      }
    },
    {
      "cell_type": "markdown",
      "source": [
        "###Contingency table between sex and marital status\n",
        "To create and plot a contingency table between sex and marital-status, I used the following code:"
      ],
      "metadata": {
        "id": "8vYRfpeUp0uX"
      }
    },
    {
      "cell_type": "code",
      "source": [
        "#create contingency table\n",
        "s_m_crosstab = pd.crosstab(training.sex, training['marital-status'])\n",
        "print(s_m_crosstab)\n",
        "\n",
        "#now plot it\n",
        "barplot = s_m_crosstab.plot.bar(rot=0,fontsize=6.5)"
      ],
      "metadata": {
        "colab": {
          "base_uri": "https://localhost:8080/",
          "height": 600
        },
        "id": "vLfytBblqAvG",
        "outputId": "68566e14-a771-4a87-d0d7-f67a1f7a0a84"
      },
      "execution_count": 117,
      "outputs": [
        {
          "output_type": "stream",
          "name": "stdout",
          "text": [
            "marital-status  Divorced  Married-AF-spouse  Married-civ-spouse  \\\n",
            "sex                                                               \n",
            "Female              1219                  7                 761   \n",
            "Male                 795                  4                6010   \n",
            "\n",
            "marital-status  Married-spouse-absent  Never-married  Separated  Widowed  \n",
            "sex                                                                       \n",
            "Female                             95           2160        290      380  \n",
            "Male                              104           2717        182       73  \n"
          ]
        },
        {
          "output_type": "display_data",
          "data": {
            "text/plain": [
              "<Figure size 640x480 with 1 Axes>"
            ],
            "image/png": "[encoded data removed]"
          },
          "metadata": {}
        }
      ]
    },
    {
      "cell_type": "markdown",
      "source": [
        "From the above, one can see that females have more representation in the Divorced, Married-AF-Spouse, Separated, and Widowed categories, while males hold more in the other categories."
      ],
      "metadata": {
        "id": "ucTUgHVz5_kt"
      }
    },
    {
      "cell_type": "markdown",
      "source": [
        "##Part 3: Creating the adultOver40 dataframe\n",
        "The dataframe adultOver40 needed all the data from training but only from those rows with age > 40. To create this dataframe, I first added each value from the age column in the training dataframe, but with any age <= 40 replaced with np.NaN; then I added the rest of the column data as it was before. Finally, I used <code>.dropna()</code> to drop any row with np.NaN, which, because we are working with a cleansed dataframe, only occurred where age <= 40. The following code performs the above:"
      ],
      "metadata": {
        "id": "VptlP6ecqdDJ"
      }
    },
    {
      "cell_type": "code",
      "source": [
        "#make new empty dataframe\n",
        "ageOver40 = pd.DataFrame(columns=['age','workclass','education','marital-status','occupation','sex','capital-gain','capital-loss','income'])\n",
        "#now, get age column in\n",
        "ageOver40['age'] = training['age']\n",
        "row = 0 #row index\n",
        "for i in training['age']:\n",
        "  if (i <= 40):\n",
        "    ageOver40['age'][row] = np.NaN\n",
        "  else:\n",
        "    ageOver40['age'][row] = i\n",
        "  row = row + 1 #increment row index\n",
        "#now fill rest of columns in\n",
        "ageOver40['workclass'] = training['workclass']\n",
        "ageOver40['education'] = training['education']\n",
        "ageOver40['marital-status'] = training['marital-status']\n",
        "ageOver40['occupation'] = training['occupation']\n",
        "ageOver40['sex'] = training['sex']\n",
        "ageOver40['capital-gain'] = training['capital-gain']\n",
        "ageOver40['capital-loss'] = training['capital-loss']\n",
        "ageOver40['income'] = training['income']\n",
        "#finally, drop any row where age = np.NaN\n",
        "ageOver40 = ageOver40.dropna(axis=0)\n",
        "#make sure all np.NaN values are gone\n",
        "ageOver40.isna().values.any()"
      ],
      "metadata": {
        "colab": {
          "base_uri": "https://localhost:8080/"
        },
        "id": "EjZzaRVusiQo",
        "outputId": "59ef881e-c23c-406e-86e7-d0d1020083fd"
      },
      "execution_count": 118,
      "outputs": [
        {
          "output_type": "execute_result",
          "data": {
            "text/plain": [
              "False"
            ]
          },
          "metadata": {},
          "execution_count": 118
        }
      ]
    },
    {
      "cell_type": "markdown",
      "source": [
        "###New contingency table between sex and marital status\n",
        "To create a contingency table between sex and marital status with the new dataframe, I used the following code:"
      ],
      "metadata": {
        "id": "KkDJLR7jwutx"
      }
    },
    {
      "cell_type": "code",
      "source": [
        "#create contingency table\n",
        "s_m_crosstab_new = pd.crosstab(ageOver40.sex, ageOver40['marital-status'])\n",
        "print(s_m_crosstab_new)"
      ],
      "metadata": {
        "colab": {
          "base_uri": "https://localhost:8080/"
        },
        "id": "_j33td31xibS",
        "outputId": "f077ec82-36e7-43af-bca2-378b7aa5efd3"
      },
      "execution_count": 119,
      "outputs": [
        {
          "output_type": "stream",
          "name": "stdout",
          "text": [
            "marital-status  Divorced  Married-civ-spouse  Married-spouse-absent  \\\n",
            "sex                                                                   \n",
            "Female               720                 305                     38   \n",
            "Male                 448                3383                     47   \n",
            "\n",
            "marital-status  Never-married  Separated  Widowed  \n",
            "sex                                                \n",
            "Female                    256        133      354  \n",
            "Male                      315         74       71  \n"
          ]
        }
      ]
    },
    {
      "cell_type": "markdown",
      "source": [
        "The most noticable difference between the adultOver40 sex and marital-status conintgency table is that there are no adults over 40 whose marital status fits into the Married-AF-spouse category. One again, though, it seems as though there are more female people in the Divorced, Separated, and Widowed categorires, and more male people in the Married-civ-spouse, Married-spouse-absent, and Never-married categories."
      ],
      "metadata": {
        "id": "llGCaB3Cx_b6"
      }
    },
    {
      "cell_type": "markdown",
      "source": [
        "##Part 4: Finding outliers in the education field\n",
        "To find out if there are outliers in the education column, I calculated the z-score of each value in the education column. I then found which z-scores were either > 3 or < -3 (i.e., which were outliers). To do this, I used the following code:"
      ],
      "metadata": {
        "id": "RSj4cX-_yK1K"
      }
    },
    {
      "cell_type": "code",
      "source": [
        "#calculate mean and std dev for education\n",
        "mean = training['education'].mean()\n",
        "stdev = training['education'].std()\n",
        "count = 0\n",
        "for i in training['education']:\n",
        "  if ((i - mean) / stdev > 3 or (i - mean) / stdev < -3):\n",
        "    #if z-score is < -3 or > 3 (i.e., outlier)\n",
        "    count = count + 1\n",
        "print(\"num outliers in education column:\", count)"
      ],
      "metadata": {
        "colab": {
          "base_uri": "https://localhost:8080/"
        },
        "id": "TU901PkUzO8h",
        "outputId": "d439102e-ba99-4a55-a78e-681159f1672d"
      },
      "execution_count": 120,
      "outputs": [
        {
          "output_type": "stream",
          "name": "stdout",
          "text": [
            "num outliers in education column: 113\n"
          ]
        }
      ]
    },
    {
      "cell_type": "markdown",
      "source": [
        "From the above output, we can see that there are indeed outliers in the education column."
      ],
      "metadata": {
        "id": "fU1Ut_Xz0ANO"
      }
    },
    {
      "cell_type": "markdown",
      "source": [
        "##Part 5: Standardizing the age column and making a histogram\n",
        "To standardize the age column, I first added a new column to the dataframe called scaled_age; I then calculated the mean and standard devation for the column, and calculated the z-score of each value in the age column, adding them to the new column. I then counted the number of outliers (i.e., the number of z-scores > 3 or < -3) The following code does just that:"
      ],
      "metadata": {
        "id": "6_GqoeJU0s4y"
      }
    },
    {
      "cell_type": "code",
      "source": [
        "#add new column\n",
        "training['scaled_age'] = training['age']\n",
        "#calculate mean and stdev for age\n",
        "m = training['age'].mean()\n",
        "s = training['age'].std()\n",
        "row = 0 #row index\n",
        "#for each value in scaled_age, calculate its z-score and then change the value to be its z-score\n",
        "for j in training['scaled_age']:\n",
        "  training['scaled_age'][row] = ((j-m)/s)\n",
        "  row = row + 1\n",
        "count = 0\n",
        "for k in training['scaled_age']:\n",
        "  if (k < -3 or k > 3):\n",
        "    count = count + 1\n",
        "print(\"num outliers in scaled_age:\",count)"
      ],
      "metadata": {
        "colab": {
          "base_uri": "https://localhost:8080/"
        },
        "id": "wmRPgyCc1Ous",
        "outputId": "d6a962f0-c6b2-4957-801c-0b2efa2fd257"
      },
      "execution_count": 122,
      "outputs": [
        {
          "output_type": "stream",
          "name": "stdout",
          "text": [
            "num outliers in scaled_age: 60\n"
          ]
        }
      ]
    },
    {
      "cell_type": "markdown",
      "source": [
        "From the above output, one can see that there are 60 outliers in the education column.<br />To find the most extreme outlier, I used the following code:"
      ],
      "metadata": {
        "id": "xPgH07ao244n"
      }
    },
    {
      "cell_type": "code",
      "source": [
        "#see how many high or low outliers there are\n",
        "countHigh = 0\n",
        "countLow = 0\n",
        "for m in training['scaled_age']:\n",
        "  if m > 3:\n",
        "    countHigh = countHigh + 1\n",
        "  if m < -3:\n",
        "    countLow = countLow + 1\n",
        "print(\"number of z-scores > 3:\",countHigh,\"\\nnumber of z-scores < -3:\",countLow)\n",
        "print(\"max of age col:\",max(training['age']),\"\\nmin of age column:\",min(training['age']))"
      ],
      "metadata": {
        "colab": {
          "base_uri": "https://localhost:8080/"
        },
        "id": "XmP63l_j3ELh",
        "outputId": "57564fe1-07c5-4145-fa04-b7a8fb7faebd"
      },
      "execution_count": 126,
      "outputs": [
        {
          "output_type": "stream",
          "name": "stdout",
          "text": [
            "number of z-scores > 3: 60 \n",
            "number of z-scores < -3: 0\n",
            "max of age col: 90 \n",
            "min of age column: 17\n"
          ]
        }
      ]
    },
    {
      "cell_type": "markdown",
      "source": [
        "From the above output, I could see that there were only z-scores > 3, meaning that the most extreme outlier must have been the maximum of the age column; this value is 90.<br /><br />To select records with age at least 80 and create a histogram, I used the following code:"
      ],
      "metadata": {
        "id": "qipuhh7s34OL"
      }
    },
    {
      "cell_type": "code",
      "source": [
        "#select records with age >= 80\n",
        "ageOver80 = training['age']\n",
        "#now, go through ageOver80 and make any value < 80 np.NaN\n",
        "k = 0 #row index\n",
        "for i in ageOver80:\n",
        "  if i < 80:\n",
        "    ageOver80[k] = np.NaN\n",
        "  k = k + 1\n",
        "#drop all np.NaN, leaving only ages >= 80\n",
        "ageOver80.dropna()\n",
        "#plt histogram\n",
        "mpl.hist(ageOver80)\n",
        "mpl.xlabel(\"age\")\n",
        "mpl.title(\"Age >= 80\")"
      ],
      "metadata": {
        "colab": {
          "base_uri": "https://localhost:8080/",
          "height": 489
        },
        "id": "-X48n6d35BLy",
        "outputId": "2389793a-ed92-468e-a1e0-0e1157d41c71"
      },
      "execution_count": 133,
      "outputs": [
        {
          "output_type": "execute_result",
          "data": {
            "text/plain": [
              "Text(0.5, 1.0, 'Age >= 80')"
            ]
          },
          "metadata": {},
          "execution_count": 133
        },
        {
          "output_type": "display_data",
          "data": {
            "text/plain": [
              "<Figure size 640x480 with 1 Axes>"
            ],
            "image/png": "[encoded data removed]"
          },
          "metadata": {}
        }
      ]
    },
    {
      "cell_type": "markdown",
      "source": [
        "From the above histogram, we can see that there are a lot of age records with value 90, which we identified earlier as the most extreme outlier. It would seem as though there is some sort of age anomaly in this dataset because there are so many outliers."
      ],
      "metadata": {
        "id": "ccgfP_9p6nth"
      }
    },
    {
      "cell_type": "markdown",
      "source": [
        "##Summary of the above\n",
        "Based on the above analysis, a few conclusions can be drawn.<ul><li>First, according to the workclass and sex contingency table, males have greater representation in every kind of position relative to females.</li><li>According to the sex and marital status contingency table, however, the results are more mixed:<ul><li>Females have greater representation in the following categories of marital status: Divorced, Married-AF-Spouse, Separated, and Widowed</li><li>Males have greater representation in the following categories: Married-civ-spouse, Married-spouse-absent, and Never-married</li></ul></li><li>Then, when the adultOver40 dataframe was created, new conclusions based on the marital status and sex contingency table could be drawn:<ul><li>No adult over 40 fit into the Married-AF-spouse category</li><li>Females had more representation in the following categories: Divorced, Separated, and Widowed</li><li>Males had more representation in the following categories:<li>Married-civ-spouse, Married-spouse-absent, and Never-married </li></ul></li><li>Then, it was discovered that there are indeed outliers in the education column:<ul><li>There are 113 outliers total</li></ul></li><li>Next, it was also discovered that there were outliers for the age column:<ul><li>There are 60 outliers total.</li><li>There were no outliers on the lower end, so the most extreme outlier was 90, the max of the age column.</li></ul></li><li>Finally, based on the histogram of adults >= 80, we could see that there was a potential age anomaly, as there were a lot of adults at age 90, which is an outlier as determined above.</li></ul>"
      ],
      "metadata": {
        "id": "s0SnpgET8vDS"
      }
    }
  ]
}